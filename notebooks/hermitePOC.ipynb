{
 "cells": [
  {
   "cell_type": "markdown",
   "id": "218fe5b7-ec1f-45a2-865e-71f81fc8d250",
   "metadata": {},
   "source": [
    "# Proof of Concept (POC)"
   ]
  },
  {
   "cell_type": "code",
   "execution_count": 35,
   "id": "8aa0f8b6-bf64-468a-aa11-8a812e6f9292",
   "metadata": {},
   "outputs": [],
   "source": [
    "import numpy as np\n",
    "import pandas as pd\n",
    "import matplotlib.pyplot as plt\n",
    "import math\n"
   ]
  },
  {
   "cell_type": "code",
   "execution_count": 36,
   "id": "edca7748-9797-442d-8aad-ebd97fd0a40e",
   "metadata": {},
   "outputs": [],
   "source": [
    "def h00(t):\n",
    "    return 2 * t**3 - 3 * t**2 + 1\n",
    "\n",
    "\n",
    "def h10(t):\n",
    "    return t**3 - 2 * t**2 + t\n",
    "\n",
    "\n",
    "def h01(t):\n",
    "    return -2 * t**3 + 3 * t**2\n",
    "\n",
    "\n",
    "def h11(t):\n",
    "    return t**3 - t**2\n",
    "\n",
    "\n",
    "def pchint(x, y, x0):\n",
    "    n = len(x)\n",
    "    d = np.zeros(n - 1)\n",
    "    for i in range(n - 1):\n",
    "        d[i] = (y[i + 1] - y[i]) / (x[i + 1] - x[i])\n",
    "\n",
    "    m = np.zeros(n)\n",
    "    m[0] = d[0]\n",
    "    m[-1] = d[-1]\n",
    "\n",
    "    for i in range(1, n - 1):\n",
    "        if d[i - 1] * d[i] < 0:\n",
    "            m[i] = 0\n",
    "        else:\n",
    "            m[i] = (d[i - 1] + d[i]) / 2\n",
    "\n",
    "    for i in range(n - 1):\n",
    "        if y[i] == y[i + 1]:\n",
    "            m[i] = 0\n",
    "            m[i + 1] = 0\n",
    "\n",
    "    for i in range(n - 1):\n",
    "        if m[i] != 0:\n",
    "            alfa = m[i] / d[i]\n",
    "            beta = m[i + 1] / d[i]\n",
    "\n",
    "            condicion = alfa - ((2 * alfa + beta - 3) ** 2) / (alfa + beta - 2) / 3\n",
    "\n",
    "            while condicion < 0:\n",
    "                tau = 3 / math.sqrt(alfa**2 + beta**2)\n",
    "                alfa = tau * alfa\n",
    "                beta = tau * beta\n",
    "                m[i] = alfa * d[i]\n",
    "                m[i + 1] = beta * d[i]\n",
    "                condicion = alfa - ((2 * alfa + beta - 3) ** 2) / (alfa + beta - 2) / 3\n",
    "    pos = 0\n",
    "    c = 0\n",
    "    F = np.zeros(len(x0))\n",
    "\n",
    "    for xi in x0:\n",
    "        if xi > x[pos + 1]:\n",
    "            pos += 1\n",
    "\n",
    "        delta = x[pos + 1] - x[pos]\n",
    "        t = (xi - x[pos]) / delta\n",
    "        F[c] = (\n",
    "            y[pos] * h00(t)\n",
    "            + delta * m[pos] * h10(t)\n",
    "            + y[pos + 1] * h01(t)\n",
    "            + delta * m[pos + 1] * h11(t)\n",
    "        )\n",
    "        c += 1\n",
    "    return F"
   ]
  },
  {
   "cell_type": "code",
   "execution_count": 44,
   "id": "587713b9-6a18-41c9-8a65-8020c5fe0a4b",
   "metadata": {},
   "outputs": [
    {
     "name": "stdout",
     "output_type": "stream",
     "text": [
      "20\n",
      "20\n"
     ]
    },
    {
     "name": "stderr",
     "output_type": "stream",
     "text": [
      "/tmp/ipykernel_96131/2549667110.py:43: RuntimeWarning: divide by zero encountered in scalar divide\n",
      "  condicion = alfa - ((2 * alfa + beta - 3) ** 2) / (alfa + beta - 2) / 3\n"
     ]
    }
   ],
   "source": [
    "x = [1,2,3,4,5]\n",
    "y = [1, 4,5,2,8]\n",
    "\n",
    "x0 = np.linspace(1,5,20)\n",
    "print(len(x0))\n",
    "y0 = pchint(x, y, x0)\n",
    "\n",
    "print(len(y0))"
   ]
  },
  {
   "cell_type": "code",
   "execution_count": 46,
   "id": "a1f5876b-f341-4aef-8338-31948731f516",
   "metadata": {},
   "outputs": [
    {
     "data": {
      "image/png": "[encoded data removed]",
      "text/plain": [
       "<Figure size 640x480 with 1 Axes>"
      ]
     },
     "metadata": {},
     "output_type": "display_data"
    }
   ],
   "source": [
    "plt.plot(x, y, 'r--')\n",
    "plt.plot(x0, y0, 'b')\n",
    "plt.xlabel('x')\n",
    "plt.ylabel('y')\n",
    "\n",
    "plt.grid(True)"
   ]
  },
  {
   "cell_type": "code",
   "execution_count": null,
   "id": "9ed64dae-4926-4f70-b2e9-bb9456f07022",
   "metadata": {},
   "outputs": [],
   "source": []
  }
 ],
 "metadata": {
  "kernelspec": {
   "display_name": "Python 3 (ipykernel)",
   "language": "python",
   "name": "python3"
  },
  "language_info": {
   "codemirror_mode": {
    "name": "ipython",
    "version": 3
   },
   "file_extension": ".py",
   "mimetype": "text/x-python",
   "name": "python",
   "nbconvert_exporter": "python",
   "pygments_lexer": "ipython3",
   "version": "3.11.4"
  }
 },
 "nbformat": 4,
 "nbformat_minor": 5
}
