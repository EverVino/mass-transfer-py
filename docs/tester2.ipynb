{
 "cells": [
  {
   "cell_type": "code",
   "execution_count": 15,
   "id": "9849bdcf-8f1a-46fa-92e4-5dfba8a5f492",
   "metadata": {
    "tags": []
   },
   "outputs": [],
   "source": [
    "import csv\n",
    "import math\n",
    "import numpy as np\n",
    "import pandas as pd\n",
    "import matplotlib.pyplot as plt"
   ]
  },
  {
   "cell_type": "code",
   "execution_count": 4,
   "id": "13a0a497-a77b-47fe-b2b3-5fcb93c8dca9",
   "metadata": {
    "tags": []
   },
   "outputs": [
    {
     "name": "stdin",
     "output_type": "stream",
     "text": [
      "Nombre del primer compuesto:  ethanol\n",
      "Nombre del segundo compuesto:  water\n"
     ]
    },
    {
     "name": "stdout",
     "output_type": "stream",
     "text": [
      "Datos guardados en ethanol-water.csv\n"
     ]
    }
   ],
   "source": [
    "def volarel(alfa):\n",
    "    x = np.arange(0, 1.1, 0.1)\n",
    "    y = []\n",
    "    compuesto1 = input(\"Nombre del primer compuesto: \")\n",
    "    compuesto2 = input(\"Nombre del segundo compuesto: \")\n",
    "\n",
    "    for i in range(len(x)):\n",
    "        o = (alfa * x[i]) / (1 + x[i] * (alfa - 1))\n",
    "        y.append(o)\n",
    "\n",
    "    \n",
    "    nombre_archivo = f\"{compuesto1}-{compuesto2}.csv\"\n",
    "\n",
    "    \n",
    "    with open(nombre_archivo, 'w', newline='') as archivo_csv:\n",
    "        writer = csv.writer(archivo_csv)\n",
    "        writer.writerow(['x', 'y']) \n",
    "        for i in range(len(x)):\n",
    "            writer.writerow([x[i], y[i]])\n",
    "\n",
    "    print(f\"Datos guardados en {nombre_archivo}\")\n",
    "\n",
    "# Llamar a la función con el valor de alfa deseado\n",
    "alfa = 3.2\n",
    "volarel(alfa)"
   ]
  },
  {
   "cell_type": "code",
   "execution_count": 5,
   "id": "e6f935d3-2f5b-4ac9-a146-59d38626531e",
   "metadata": {
    "tags": []
   },
   "outputs": [],
   "source": [
    "def h00(t):\n",
    "    return 2 * t**3 - 3 * t**2 + 1\n",
    "\n",
    "\n",
    "def h10(t):\n",
    "    return t**3 - 2 * t**2 + t\n",
    "\n",
    "\n",
    "def h01(t):\n",
    "    return -2 * t**3 + 3 * t**2\n",
    "\n",
    "\n",
    "def h11(t):\n",
    "    return t**3 - t**2\n",
    "\n",
    "\n",
    "def pchint(x, y, x0):\n",
    "    n = len(x)\n",
    "    d = np.zeros(n - 1)\n",
    "    for i in range(n - 1):\n",
    "        d[i] = (y[i + 1] - y[i]) / (x[i + 1] - x[i])\n",
    "\n",
    "    m = np.zeros(n)\n",
    "    m[0] = d[0]\n",
    "    m[-1] = d[-1]\n",
    "\n",
    "    for i in range(1, n - 1):\n",
    "        if d[i - 1] * d[i] < 0:\n",
    "            m[i] = 0\n",
    "        else:\n",
    "            m[i] = (d[i - 1] + d[i]) / 2\n",
    "\n",
    "    for i in range(n - 1):\n",
    "        if y[i] == y[i + 1]:\n",
    "            m[i] = 0\n",
    "            m[i + 1] = 0\n",
    "\n",
    "    for i in range(n - 1):\n",
    "        if m[i] != 0:\n",
    "            alfa = m[i] / d[i]\n",
    "            beta = m[i + 1] / d[i]\n",
    "\n",
    "            condicion = alfa - ((2 * alfa + beta - 3) ** 2) / (alfa + beta - 2) / 3\n",
    "\n",
    "            while condicion < 0:\n",
    "                tau = 3 / math.sqrt(alfa**2 + beta**2)\n",
    "                alfa = tau * alfa\n",
    "                beta = tau * beta\n",
    "                m[i] = alfa * d[i]\n",
    "                m[i + 1] = beta * d[i]\n",
    "                condicion = alfa - ((2 * alfa + beta - 3) ** 2) / (alfa + beta - 2) / 3\n",
    "    pos = 0\n",
    "    c = 0\n",
    "    F = np.zeros(len(x0))\n",
    "\n",
    "    for xi in x0:\n",
    "        if xi > x[pos + 1]:\n",
    "            pos += 1\n",
    "\n",
    "        delta = x[pos + 1] - x[pos]\n",
    "        t = (xi - x[pos]) / delta\n",
    "        F[c] = (\n",
    "            y[pos] * h00(t)\n",
    "            + delta * m[pos] * h10(t)\n",
    "            + y[pos + 1] * h01(t)\n",
    "            + delta * m[pos + 1] * h11(t)\n",
    "        )\n",
    "        c += 1\n",
    "    return F\n"
   ]
  },
  {
   "cell_type": "code",
   "execution_count": 6,
   "id": "6e2007a6-9c14-45ea-9b72-62dce8f36726",
   "metadata": {
    "tags": []
   },
   "outputs": [],
   "source": [
    "def create_line(x1, y1, x2, y2):\n",
    "    def line(x):\n",
    "        m = (y2 - y1) / (x2 - x1)\n",
    "        b = y1 - m * x1\n",
    "        return m * x + b\n",
    "    return line"
   ]
  },
  {
   "cell_type": "code",
   "execution_count": 7,
   "id": "a5ec2a55-9a39-46ea-8747-7b4c574cd661",
   "metadata": {
    "tags": []
   },
   "outputs": [],
   "source": [
    "df = pd.read_csv('methanol-water.csv')\n",
    "x = np.array(df['x'])\n",
    "y = np.array(df['y'])"
   ]
  },
  {
   "cell_type": "code",
   "execution_count": 8,
   "id": "dcd693c6-948e-4ae6-9b03-922f91c665ba",
   "metadata": {
    "tags": []
   },
   "outputs": [],
   "source": [
    "def pinch(alfa, q, z):\n",
    "\traiz = ((alfa - 1) * (z + q) - alfa)**2 + 4*z * (alfa - 1)*q\n",
    "\txp = ((alfa - 1) * (z + q) - alfa + math.sqrt(raiz)) / (2 * (alfa - 1) * q)\n",
    "\typ = (alfa * xp) / (1 + xp * (alfa - 1))\n",
    "\n",
    "\treturn (xp, yp) "
   ]
  },
  {
   "cell_type": "code",
   "execution_count": 9,
   "id": "36be7e45-19e0-4d0f-bc17-1da47e5bc23e",
   "metadata": {
    "tags": []
   },
   "outputs": [
    {
     "name": "stdout",
     "output_type": "stream",
     "text": [
      "0.31010601988602793 0.589893980113972\n"
     ]
    }
   ],
   "source": [
    "(x2, y2) = pinch(3.2, 0.5, 0.45)\n",
    "print(x2,y2)"
   ]
  },
  {
   "cell_type": "code",
   "execution_count": 10,
   "id": "838232f6-e275-40f7-88c6-973fbc71e102",
   "metadata": {
    "tags": []
   },
   "outputs": [],
   "source": [
    "x_data = np.linspace(x[0], x[-1], 100)\n",
    "y_data = pchint(x, y, x_data)"
   ]
  },
  {
   "cell_type": "code",
   "execution_count": 23,
   "id": "4a01c11c-e8c6-436b-b183-d9b389e2af03",
   "metadata": {
    "tags": []
   },
   "outputs": [],
   "source": [
    "point2 = (x2, y2)\n",
    "point1 = (0.45, 0.45)\n",
    "line_function = create_line(point1[0], point1[1], point2[0], point2[1])\n",
    "\n",
    "rop = create_line(x2, y2, 1, 1)\n",
    "sop = create_line(point2[0], y2, 0, 0)"
   ]
  },
  {
   "cell_type": "code",
   "execution_count": 36,
   "id": "beb187dc-4bad-4cf5-8591-bd4b8f5e19fd",
   "metadata": {
    "tags": []
   },
   "outputs": [
    {
     "data": {
      "image/png": "[encoded data removed]",
      "text/plain": [
       "<Figure size 640x480 with 1 Axes>"
      ]
     },
     "metadata": {},
     "output_type": "display_data"
    }
   ],
   "source": [
    "x_values = np.linspace(0.45, x2, 10)\n",
    "rec = np.arange(0, 1.0, 0.01)\n",
    "\n",
    "y_values = np.array([line_function(x_val) for x_val in x_values])\n",
    "\n",
    "rope = np.array([rop(x_val) for x_val in x_data])\n",
    "sope = np.array([sop(x_val) for x_val in x_data])\n",
    "\n",
    "plt.plot(x_values, y_values, '--')\n",
    "plt.plot(x_data, rec)\n",
    "plt.plot(x_data, y_data)\n",
    "plt.scatter(x2, y2, label = 'Punto Pinch')\n",
    "plt.scatter(0.45, 0.45)\n",
    "plt.plot(x_data, rope)\n",
    "plt.plot(x_data, sope)\n",
    "\n",
    "\n",
    "plt.xlabel('x')\n",
    "plt.ylabel('y')\n",
    "plt.title('Ethanol - Water')\n",
    "\n",
    "\n",
    "plt.legend()\n",
    "\n",
    "\n",
    "plt.grid(True)\n"
   ]
  },
  {
   "cell_type": "code",
   "execution_count": null,
   "id": "d11959e3-657b-46c3-808f-c20fde6e1bb4",
   "metadata": {},
   "outputs": [],
   "source": []
  }
 ],
 "metadata": {
  "kernelspec": {
   "display_name": "Python 3 (ipykernel)",
   "language": "python",
   "name": "python3"
  },
  "language_info": {
   "codemirror_mode": {
    "name": "ipython",
    "version": 3
   },
   "file_extension": ".py",
   "mimetype": "text/x-python",
   "name": "python",
   "nbconvert_exporter": "python",
   "pygments_lexer": "ipython3",
   "version": "3.11.4"
  }
 },
 "nbformat": 4,
 "nbformat_minor": 5
}
