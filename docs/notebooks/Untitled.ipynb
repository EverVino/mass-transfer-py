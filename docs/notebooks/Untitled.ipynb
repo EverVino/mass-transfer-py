{
 "cells": [
  {
   "cell_type": "code",
   "execution_count": 1,
   "id": "8001eaf3-1567-4694-b685-ed9b00b4349b",
   "metadata": {
    "tags": []
   },
   "outputs": [],
   "source": [
    "import pandas as pd\n",
    "import numpy as np\n",
    "import matplotlib.pyplot as plt"
   ]
  },
  {
   "cell_type": "code",
   "execution_count": 2,
   "id": "211e81d9-3068-4bfe-ac9c-a361468d5b38",
   "metadata": {
    "tags": []
   },
   "outputs": [],
   "source": [
    "def line_creator(a, b):\n",
    "    return lambda x: a*x + b\n",
    "    \n"
   ]
  },
  {
   "cell_type": "code",
   "execution_count": 3,
   "id": "b0267f62-45dd-43cf-af66-77867c2a7fed",
   "metadata": {
    "tags": []
   },
   "outputs": [
    {
     "data": {
      "text/html": [
       "<div>\n",
       "<style scoped>\n",
       "    .dataframe tbody tr th:only-of-type {\n",
       "        vertical-align: middle;\n",
       "    }\n",
       "\n",
       "    .dataframe tbody tr th {\n",
       "        vertical-align: top;\n",
       "    }\n",
       "\n",
       "    .dataframe thead th {\n",
       "        text-align: right;\n",
       "    }\n",
       "</style>\n",
       "<table border=\"1\" class=\"dataframe\">\n",
       "  <thead>\n",
       "    <tr style=\"text-align: right;\">\n",
       "      <th></th>\n",
       "      <th>x</th>\n",
       "      <th>y</th>\n",
       "    </tr>\n",
       "  </thead>\n",
       "  <tbody>\n",
       "    <tr>\n",
       "      <th>0</th>\n",
       "      <td>0.02</td>\n",
       "      <td>0.013</td>\n",
       "    </tr>\n",
       "    <tr>\n",
       "      <th>1</th>\n",
       "      <td>0.06</td>\n",
       "      <td>0.300</td>\n",
       "    </tr>\n",
       "    <tr>\n",
       "      <th>2</th>\n",
       "      <td>0.10</td>\n",
       "      <td>0.420</td>\n",
       "    </tr>\n",
       "    <tr>\n",
       "      <th>3</th>\n",
       "      <td>0.20</td>\n",
       "      <td>0.570</td>\n",
       "    </tr>\n",
       "    <tr>\n",
       "      <th>4</th>\n",
       "      <td>0.30</td>\n",
       "      <td>0.660</td>\n",
       "    </tr>\n",
       "    <tr>\n",
       "      <th>5</th>\n",
       "      <td>0.40</td>\n",
       "      <td>0.720</td>\n",
       "    </tr>\n",
       "    <tr>\n",
       "      <th>6</th>\n",
       "      <td>0.50</td>\n",
       "      <td>0.780</td>\n",
       "    </tr>\n",
       "    <tr>\n",
       "      <th>7</th>\n",
       "      <td>0.60</td>\n",
       "      <td>0.820</td>\n",
       "    </tr>\n",
       "    <tr>\n",
       "      <th>8</th>\n",
       "      <td>0.70</td>\n",
       "      <td>0.870</td>\n",
       "    </tr>\n",
       "    <tr>\n",
       "      <th>9</th>\n",
       "      <td>0.80</td>\n",
       "      <td>0.910</td>\n",
       "    </tr>\n",
       "    <tr>\n",
       "      <th>10</th>\n",
       "      <td>0.90</td>\n",
       "      <td>0.950</td>\n",
       "    </tr>\n",
       "    <tr>\n",
       "      <th>11</th>\n",
       "      <td>0.95</td>\n",
       "      <td>0.980</td>\n",
       "    </tr>\n",
       "  </tbody>\n",
       "</table>\n",
       "</div>"
      ],
      "text/plain": [
       "       x      y\n",
       "0   0.02  0.013\n",
       "1   0.06  0.300\n",
       "2   0.10  0.420\n",
       "3   0.20  0.570\n",
       "4   0.30  0.660\n",
       "5   0.40  0.720\n",
       "6   0.50  0.780\n",
       "7   0.60  0.820\n",
       "8   0.70  0.870\n",
       "9   0.80  0.910\n",
       "10  0.90  0.950\n",
       "11  0.95  0.980"
      ]
     },
     "execution_count": 3,
     "metadata": {},
     "output_type": "execute_result"
    }
   ],
   "source": [
    "df = pd.read_csv('methanol-water.csv')\n",
    "df"
   ]
  },
  {
   "cell_type": "code",
   "execution_count": 4,
   "id": "50b74510-c020-4350-a014-c8cd29eb41be",
   "metadata": {
    "tags": []
   },
   "outputs": [],
   "source": [
    "x = df['x'].values\n",
    "y = df['y'].values"
   ]
  },
  {
   "cell_type": "code",
   "execution_count": 5,
   "id": "32087fbe-2e2e-4bd5-be69-bcbeef78fbba",
   "metadata": {
    "tags": []
   },
   "outputs": [
    {
     "data": {
      "text/plain": [
       "array([0.013, 0.3  , 0.42 , 0.57 , 0.66 , 0.72 , 0.78 , 0.82 , 0.87 ,\n",
       "       0.91 , 0.95 , 0.98 ])"
      ]
     },
     "execution_count": 5,
     "metadata": {},
     "output_type": "execute_result"
    }
   ],
   "source": [
    "y"
   ]
  },
  {
   "cell_type": "code",
   "execution_count": 6,
   "id": "2b593519-0560-43c6-ad17-c78c39a28034",
   "metadata": {
    "tags": []
   },
   "outputs": [],
   "source": [
    "def create_feed_line(q, xf):\n",
    "    return lambda x: q*x/(q-1) - xf/(q-1)"
   ]
  },
  {
   "cell_type": "code",
   "execution_count": 13,
   "id": "4a50dc90-551d-419e-9cb0-9b4f3fcf23b4",
   "metadata": {
    "tags": []
   },
   "outputs": [],
   "source": [
    "feed = create_feed_line(0.5, 0.5)\n",
    "x0f = np.linspace(0,1,200)\n",
    "y0f = [feed(x) for x in np.linspace(0,1,200)]"
   ]
  },
  {
   "cell_type": "code",
   "execution_count": 9,
   "id": "8780d89e-4034-4c65-9752-011596bbe838",
   "metadata": {
    "tags": []
   },
   "outputs": [],
   "source": [
    "\n",
    "def find_intersection(a, b):\n",
    "    if a + 1 == b:\n",
    "        return a, b\n",
    "\n",
    "    m = (a+b)//2\n",
    "    signal_change = (y_values[m]-feed(x_values[m]))*(y_values[a]-feed(x_values[a]))\n",
    "    if signal_change < 0:\n",
    "        b = m\n",
    "    else:\n",
    "        a = m\n",
    "        \n",
    "    return find_intersection(a,b)    "
   ]
  },
  {
   "cell_type": "code",
   "execution_count": 10,
   "id": "233efe7b-2614-4884-90fd-fe7ed05c10e5",
   "metadata": {
    "tags": []
   },
   "outputs": [
    {
     "name": "stdout",
     "output_type": "stream",
     "text": [
      "4 5\n"
     ]
    }
   ],
   "source": [
    "x_values = x\n",
    "y_values = y\n",
    "a = 0\n",
    "b = len(x)-1\n",
    "feed = create_feed_line(0.5, 0.5)\n",
    "a, b = find_intersection(a,b)\n",
    "print(a,b)"
   ]
  },
  {
   "cell_type": "code",
   "execution_count": 20,
   "id": "bd6ba10b-c2f7-4337-93a3-c4d283fa7567",
   "metadata": {
    "tags": []
   },
   "outputs": [
    {
     "data": {
      "image/png": "[encoded data removed]",
      "text/plain": [
       "<Figure size 640x480 with 1 Axes>"
      ]
     },
     "metadata": {},
     "output_type": "display_data"
    }
   ],
   "source": [
    "plt.plot(x, y, 'ro')\n",
    "plt.plot(x0f, y0f, 'bo', label = 'linea')\n",
    "plt.xlabel('x')\n",
    "plt.ylabel('y')\n",
    "plt.axvline(x[7])\n",
    "\n",
    "plt.legend()\n",
    "plt.grid(True)"
   ]
  }
 ],
 "metadata": {
  "kernelspec": {
   "display_name": "Python 3 (ipykernel)",
   "language": "python",
   "name": "python3"
  },
  "language_info": {
   "codemirror_mode": {
    "name": "ipython",
    "version": 3
   },
   "file_extension": ".py",
   "mimetype": "text/x-python",
   "name": "python",
   "nbconvert_exporter": "python",
   "pygments_lexer": "ipython3",
   "version": "3.10.13"
  }
 },
 "nbformat": 4,
 "nbformat_minor": 5
}
