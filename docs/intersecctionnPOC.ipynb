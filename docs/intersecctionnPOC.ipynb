{
 "cells": [
  {
   "cell_type": "code",
   "execution_count": 1,
   "id": "e14b61dc-83ef-4b8e-912d-e0dfc005cf7f",
   "metadata": {
    "tags": []
   },
   "outputs": [],
   "source": [
    "import pandas as pd\n",
    "import numpy as np\n",
    "import matplotlib.pyplot as plt"
   ]
  },
  {
   "cell_type": "code",
   "execution_count": 2,
   "id": "868a2f02-a701-4361-88a7-32756ff7fbfe",
   "metadata": {
    "tags": []
   },
   "outputs": [],
   "source": [
    "def line_creator(a, b):\n",
    "    return lambda x: a*x + b\n",
    "    \n"
   ]
  },
  {
   "cell_type": "code",
   "execution_count": 3,
   "id": "90b915c7-486f-4d2f-9bde-f9777ba5e0ae",
   "metadata": {
    "tags": []
   },
   "outputs": [
    {
     "data": {
      "text/plain": [
       "6"
      ]
     },
     "execution_count": 3,
     "metadata": {},
     "output_type": "execute_result"
    }
   ],
   "source": [
    "linea_nueva = line_creator(1, 0)\n",
    "linea_nueva(6)"
   ]
  },
  {
   "cell_type": "code",
   "execution_count": 4,
   "id": "45146a60-fff8-4836-93d8-ddddefcd6b72",
   "metadata": {
    "tags": []
   },
   "outputs": [
    {
     "data": {
      "text/plain": [
       "0"
      ]
     },
     "execution_count": 4,
     "metadata": {},
     "output_type": "execute_result"
    }
   ],
   "source": [
    "linea_nueva(0)"
   ]
  },
  {
   "cell_type": "code",
   "execution_count": 5,
   "id": "1a84811f-ea44-4964-b40f-8f8fc9343772",
   "metadata": {
    "tags": []
   },
   "outputs": [],
   "source": [
    "def fm1(f):\n",
    "    return f(4) +1\n"
   ]
  },
  {
   "cell_type": "code",
   "execution_count": 6,
   "id": "ca1f4796-6c04-44fe-9590-7d919c0e6d27",
   "metadata": {
    "tags": []
   },
   "outputs": [
    {
     "data": {
      "text/plain": [
       "5"
      ]
     },
     "execution_count": 6,
     "metadata": {},
     "output_type": "execute_result"
    }
   ],
   "source": [
    "fm1(linea_nueva)"
   ]
  },
  {
   "cell_type": "code",
   "execution_count": 7,
   "id": "c4eb8162-612a-4983-b6cf-cb0b9276f7fd",
   "metadata": {
    "tags": []
   },
   "outputs": [
    {
     "data": {
      "text/html": [
       "<div>\n",
       "<style scoped>\n",
       "    .dataframe tbody tr th:only-of-type {\n",
       "        vertical-align: middle;\n",
       "    }\n",
       "\n",
       "    .dataframe tbody tr th {\n",
       "        vertical-align: top;\n",
       "    }\n",
       "\n",
       "    .dataframe thead th {\n",
       "        text-align: right;\n",
       "    }\n",
       "</style>\n",
       "<table border=\"1\" class=\"dataframe\">\n",
       "  <thead>\n",
       "    <tr style=\"text-align: right;\">\n",
       "      <th></th>\n",
       "      <th>x</th>\n",
       "      <th>y</th>\n",
       "    </tr>\n",
       "  </thead>\n",
       "  <tbody>\n",
       "    <tr>\n",
       "      <th>0</th>\n",
       "      <td>0.02</td>\n",
       "      <td>0.013</td>\n",
       "    </tr>\n",
       "    <tr>\n",
       "      <th>1</th>\n",
       "      <td>0.06</td>\n",
       "      <td>0.300</td>\n",
       "    </tr>\n",
       "    <tr>\n",
       "      <th>2</th>\n",
       "      <td>0.10</td>\n",
       "      <td>0.420</td>\n",
       "    </tr>\n",
       "    <tr>\n",
       "      <th>3</th>\n",
       "      <td>0.20</td>\n",
       "      <td>0.570</td>\n",
       "    </tr>\n",
       "    <tr>\n",
       "      <th>4</th>\n",
       "      <td>0.30</td>\n",
       "      <td>0.660</td>\n",
       "    </tr>\n",
       "    <tr>\n",
       "      <th>5</th>\n",
       "      <td>0.40</td>\n",
       "      <td>0.720</td>\n",
       "    </tr>\n",
       "    <tr>\n",
       "      <th>6</th>\n",
       "      <td>0.50</td>\n",
       "      <td>0.780</td>\n",
       "    </tr>\n",
       "    <tr>\n",
       "      <th>7</th>\n",
       "      <td>0.60</td>\n",
       "      <td>0.820</td>\n",
       "    </tr>\n",
       "    <tr>\n",
       "      <th>8</th>\n",
       "      <td>0.70</td>\n",
       "      <td>0.870</td>\n",
       "    </tr>\n",
       "    <tr>\n",
       "      <th>9</th>\n",
       "      <td>0.80</td>\n",
       "      <td>0.910</td>\n",
       "    </tr>\n",
       "    <tr>\n",
       "      <th>10</th>\n",
       "      <td>0.90</td>\n",
       "      <td>0.950</td>\n",
       "    </tr>\n",
       "    <tr>\n",
       "      <th>11</th>\n",
       "      <td>0.95</td>\n",
       "      <td>0.980</td>\n",
       "    </tr>\n",
       "  </tbody>\n",
       "</table>\n",
       "</div>"
      ],
      "text/plain": [
       "       x      y\n",
       "0   0.02  0.013\n",
       "1   0.06  0.300\n",
       "2   0.10  0.420\n",
       "3   0.20  0.570\n",
       "4   0.30  0.660\n",
       "5   0.40  0.720\n",
       "6   0.50  0.780\n",
       "7   0.60  0.820\n",
       "8   0.70  0.870\n",
       "9   0.80  0.910\n",
       "10  0.90  0.950\n",
       "11  0.95  0.980"
      ]
     },
     "execution_count": 7,
     "metadata": {},
     "output_type": "execute_result"
    }
   ],
   "source": [
    "df = pd.read_csv('methanol-water.csv')\n",
    "df"
   ]
  },
  {
   "cell_type": "code",
   "execution_count": 8,
   "id": "b44867a2-3884-4d0f-9f89-7961c44d1a55",
   "metadata": {
    "tags": []
   },
   "outputs": [],
   "source": [
    "x = df['x'].values\n",
    "y = df['y'].values"
   ]
  },
  {
   "cell_type": "code",
   "execution_count": 9,
   "id": "42d01919-9f20-4bfb-8953-c504a1e8a767",
   "metadata": {
    "tags": []
   },
   "outputs": [
    {
     "data": {
      "text/plain": [
       "array([0.013, 0.3  , 0.42 , 0.57 , 0.66 , 0.72 , 0.78 , 0.82 , 0.87 ,\n",
       "       0.91 , 0.95 , 0.98 ])"
      ]
     },
     "execution_count": 9,
     "metadata": {},
     "output_type": "execute_result"
    }
   ],
   "source": [
    "y"
   ]
  },
  {
   "cell_type": "code",
   "execution_count": 10,
   "id": "76c9bd1c-a4f1-41fe-b237-86a45f8171c6",
   "metadata": {
    "tags": []
   },
   "outputs": [],
   "source": [
    "def create_feed_line(q, xf):\n",
    "    return lambda x: q*x/(q-1) - xf/(q-1)"
   ]
  },
  {
   "cell_type": "code",
   "execution_count": 11,
   "id": "a1b71b68-cd21-4f9c-8a78-e7f8f7c1e394",
   "metadata": {
    "tags": []
   },
   "outputs": [],
   "source": [
    "feed = create_feed_line(0.5, 0.5)\n",
    "x0f = np.linspace(0,1,200)\n",
    "y0f = [feed(x) for x in np.linspace(0,1,200)]"
   ]
  },
  {
   "cell_type": "code",
   "execution_count": 16,
   "id": "115a2445-2ff8-4fd3-be8c-2ace19dc820f",
   "metadata": {
    "tags": []
   },
   "outputs": [
    {
     "data": {
      "image/png": "[encoded data removed]",
      "text/plain": [
       "<Figure size 640x480 with 1 Axes>"
      ]
     },
     "metadata": {},
     "output_type": "display_data"
    }
   ],
   "source": [
    "plt.plot(x, y, 'ro')\n",
    "plt.plot(x0f, y0f, 'bo', label = 'linea')\n",
    "plt.xlabel('x')\n",
    "plt.ylabel('y')\n",
    "plt.axvline(0.3399993896484374)\n",
    "\n",
    "plt.legend()\n",
    "plt.grid(True)"
   ]
  },
  {
   "cell_type": "code",
   "execution_count": 23,
   "id": "0e24c3d7-f995-4107-a7b5-c1ae6e20d69f",
   "metadata": {
    "tags": []
   },
   "outputs": [
    {
     "data": {
      "image/png": "[encoded data removed]",
      "text/plain": [
       "<Figure size 640x480 with 1 Axes>"
      ]
     },
     "metadata": {},
     "output_type": "display_data"
    }
   ],
   "source": [
    "import numpy as np\n",
    "import matplotlib.pyplot as plt\n",
    "from scipy.optimize import fsolve\n",
    "from scipy.interpolate import interp1d\n",
    "\n",
    "def create_feed_line(q, xf):\n",
    "    return lambda x: q*x/(q-1) - xf/(q-1)\n",
    "\n",
    "def find_intersection(df, q, xf, epsilon=1e-5):\n",
    "    feed = create_feed_line(q, xf)\n",
    "    x_values = df['x'].values\n",
    "    y_values = df['y'].values\n",
    "\n",
    "    def difference_function(x):\n",
    "        return y_values - feed(x)\n",
    "\n",
    "    # Verifica el cambio de signo para encontrar intervalos que contienen la intersección\n",
    "    sign_changes = np.where(np.diff(np.sign(difference_function(x_values))))[0]\n",
    "\n",
    "    if len(sign_changes) == 0:\n",
    "        return None  # No hay cambio de signo, no hay intersección\n",
    "\n",
    "    intersections = []\n",
    "\n",
    "    # Utiliza interpolación para encontrar la intersección en cada subintervalo\n",
    "    for i in sign_changes:\n",
    "        x_interval = x_values[i:i+2]\n",
    "        y_interval = y_values[i:i+2]\n",
    "        interpolator = interp1d(x_interval, y_interval, kind='linear', fill_value=\"extrapolate\")\n",
    "        intersection = fsolve(lambda x: interpolator(x) - feed(x), np.mean(x_interval))\n",
    "        intersections.extend(intersection)\n",
    "\n",
    "    return intersections\n",
    "\n",
    "# Ejemplo de uso\n",
    "q_guess = 0.5\n",
    "xf_guess = 0.5\n",
    "intersections = find_intersection(df, q_guess, xf_guess)\n",
    "\n",
    "# Gráfico\n",
    "x_values = df['x'].values\n",
    "y_values = df['y'].values\n",
    "\n",
    "feed = create_feed_line(q_guess, xf_guess)\n",
    "y_feed = feed(x_values)\n",
    "\n",
    "plt.plot(x_values, y_values, label='Equilibrium line')\n",
    "plt.plot(x_values, y_feed, label='Feed line')\n",
    "plt.scatter(intersections, feed(np.array(intersections)), color='red', label='Intersección')\n",
    "plt.xlabel('x')\n",
    "plt.ylabel('y')\n",
    "plt.legend()\n",
    "plt.show()\n",
    "\n"
   ]
  },
  {
   "cell_type": "code",
   "execution_count": 23,
   "id": "14f84d11-7b1f-477a-a242-940d812f6d46",
   "metadata": {},
   "outputs": [],
   "source": [
    "# feed = create_feed_line(0.5, 0.5)\n",
    "# x\n",
    "# y\n",
    "eq_x = x\n",
    "eq_y = y"
   ]
  },
  {
   "cell_type": "code",
   "execution_count": 38,
   "id": "a3988018-12ee-4317-950e-0454769eff0c",
   "metadata": {},
   "outputs": [],
   "source": [
    "class Point:\n",
    "    def __init__(self, idx, x, y):\n",
    "        self.idx = idx\n",
    "        self.x = x[idx]\n",
    "        self.y = y[idx]\n",
    "        self.x_data = x\n",
    "        self.y_data = y\n",
    "\n",
    "    def change(self, idx):\n",
    "        self.x = self.x_data[idx]\n",
    "        self.y = x_data.y_data[idx]"
   ]
  },
  {
   "cell_type": "code",
   "execution_count": 53,
   "id": "ec07128c-e99c-4a28-b2fc-a87d2a1e4599",
   "metadata": {},
   "outputs": [
    {
     "name": "stdout",
     "output_type": "stream",
     "text": [
      "0.013 0.98\n",
      "0.98 0.050000000000000044\n"
     ]
    }
   ],
   "source": [
    "a = Point(0, eq_x, eq_y)\n",
    "b = Point(len(eq_x)-1, eq_x, eq_y)\n",
    "\n",
    "fay = feed(a.x)\n",
    "fby = feed(b.x)\n",
    "print(a.y, b.y)\n",
    "print(fay, fby)"
   ]
  },
  {
   "cell_type": "code",
   "execution_count": 57,
   "id": "7086804c-ca2d-4a51-b6fa-ae4ad3c9c236",
   "metadata": {},
   "outputs": [
    {
     "name": "stdout",
     "output_type": "stream",
     "text": [
      "0.02 0.95\n",
      "5\n",
      "0.4 0.95\n",
      "8\n",
      "0.4 0.7\n",
      "6\n"
     ]
    }
   ],
   "source": [
    "def intersection(a, b, feed, eq_x , eq_y ):\n",
    "    print(a.x, b.x)\n",
    "    # if a.idx + 1 == b.idx:\n",
    "    #     return a, b\n",
    "    \n",
    "    # n = len(eq_x[a.idx:b.idx])\n",
    "    m = (a.idx+b.idx)//2\n",
    "    print(m)\n",
    "    fay = feed(a.x)\n",
    "    fby = feed(b.x)\n",
    "    \n",
    "    pm = Point(m, eq_x , eq_y)\n",
    "    \n",
    "    fmy = feed(pm.x)\n",
    "    \n",
    "    if (a.y-fay)*(pm.y-fmy) < 0:\n",
    "        b = pm\n",
    "    else:\n",
    "        a = pm\n",
    "\n",
    "    return a, b\n",
    "\n",
    "aa, bb = intersection(a, b, feed, eq_x , eq_x )\n",
    "aaa, bbb = intersection(aa, bb, feed, eq_x , eq_x )\n",
    "a3, b3 = intersection(aaa, bbb, feed, eq_x , eq_x )\n",
    "\n",
    "# print(aa.x, bb.x)\n",
    "# print(aaa.x, bbb.x)\n",
    "        \n",
    "    \n",
    "    "
   ]
  },
  {
   "cell_type": "code",
   "execution_count": 30,
   "id": "1c5dbffb-8106-4c6a-822d-9c91b64496be",
   "metadata": {},
   "outputs": [
    {
     "data": {
      "text/plain": [
       "120"
      ]
     },
     "execution_count": 30,
     "metadata": {},
     "output_type": "execute_result"
    }
   ],
   "source": [
    "def factorial(n):\n",
    "    if n < 2:\n",
    "        return n\n",
    "    return factorial(n-1) * n\n",
    "\n",
    "factorial(5)"
   ]
  },
  {
   "cell_type": "code",
   "execution_count": null,
   "id": "6ba08dda-8854-45b9-bdf0-d646406abad1",
   "metadata": {},
   "outputs": [],
   "source": []
  }
 ],
 "metadata": {
  "kernelspec": {
   "display_name": "Python 3 (ipykernel)",
   "language": "python",
   "name": "python3"
  },
  "language_info": {
   "codemirror_mode": {
    "name": "ipython",
    "version": 3
   },
   "file_extension": ".py",
   "mimetype": "text/x-python",
   "name": "python",
   "nbconvert_exporter": "python",
   "pygments_lexer": "ipython3",
   "version": "3.11.4"
  }
 },
 "nbformat": 4,
 "nbformat_minor": 5
}
